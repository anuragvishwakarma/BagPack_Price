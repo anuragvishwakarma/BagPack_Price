{
 "cells": [
  {
   "cell_type": "markdown",
   "id": "49897343",
   "metadata": {
    "papermill": {
     "duration": 0.007684,
     "end_time": "2025-03-24T21:42:48.719534",
     "exception": false,
     "start_time": "2025-03-24T21:42:48.711850",
     "status": "completed"
    },
    "tags": []
   },
   "source": [
    "# **Backpack Price Prediction Using Deep Learning**\n",
    "### Playground Series Season 5 Episode 2 ([Kaggle Competition](https://www.kaggle.com/competitions/playground-series-s5e2/overview))\n",
    "\n",
    "  \n",
    "- Backpacks are an essential component of daily life, reflecting both utility and style. Predicting the price of a backpack involves understanding a multitude of factors, including brand, material, size, features like laptop compartments and waterproofing, as well as aesthetic choices like style and color.\n",
    "\n",
    "- This project is dedicated to building a sophisticated **deep learning regression model** to estimate backpack prices based on their attributes. Our work leverages the extensive dataset provided by the Kaggle competition, *Playground Series Season 5 Episode 2*, to develop a data-driven approach that captures nuanced relationships between features.\n",
    "\n",
    "- The core goal of this project is to **minimize prediction errors** while maximizing the accuracy of the model. To achieve this, the **Root Mean Square Error (RMSE)** serves as our principal evaluation metric, reflecting the precision of our predictions.\n",
    "\n",
    "\n"
   ]
  },
  {
   "cell_type": "markdown",
   "id": "2ebf5187",
   "metadata": {
    "papermill": {
     "duration": 0.006246,
     "end_time": "2025-03-24T21:42:48.732597",
     "exception": false,
     "start_time": "2025-03-24T21:42:48.726351",
     "status": "completed"
    },
    "tags": []
   },
   "source": [
    "# Importing the necessary packages"
   ]
  },
  {
   "cell_type": "code",
   "execution_count": 1,
   "id": "222371f8",
   "metadata": {
    "execution": {
     "iopub.execute_input": "2025-03-24T21:42:48.746745Z",
     "iopub.status.busy": "2025-03-24T21:42:48.746392Z",
     "iopub.status.idle": "2025-03-24T21:43:06.513555Z",
     "shell.execute_reply": "2025-03-24T21:43:06.512407Z"
    },
    "papermill": {
     "duration": 17.776557,
     "end_time": "2025-03-24T21:43:06.515586",
     "exception": false,
     "start_time": "2025-03-24T21:42:48.739029",
     "status": "completed"
    },
    "tags": []
   },
   "outputs": [],
   "source": [
    "import pandas as pd\n",
    "import matplotlib.pyplot as plt\n",
    "import seaborn as sns\n",
    "import warnings\n",
    "warnings.filterwarnings('ignore')\n",
    "import numpy as np\n",
    "\n",
    "from tensorflow.keras.models import Sequential\n",
    "from tensorflow.keras.layers import Dense, Dropout\n",
    "import tensorflow as tf\n",
    "from sklearn.metrics import mean_squared_error\n",
    "from sklearn.model_selection import train_test_split\n",
    "from sklearn.preprocessing import StandardScaler\n",
    "from tensorflow.keras.callbacks import EarlyStopping"
   ]
  },
  {
   "cell_type": "markdown",
   "id": "dbeabcda",
   "metadata": {
    "papermill": {
     "duration": 0.006538,
     "end_time": "2025-03-24T21:43:06.529600",
     "exception": false,
     "start_time": "2025-03-24T21:43:06.523062",
     "status": "completed"
    },
    "tags": []
   },
   "source": [
    "# Importing the data"
   ]
  },
  {
   "cell_type": "code",
   "execution_count": null,
   "id": "aa64ba6e",
   "metadata": {
    "execution": {
     "iopub.execute_input": "2025-03-24T21:43:06.544873Z",
     "iopub.status.busy": "2025-03-24T21:43:06.544208Z",
     "iopub.status.idle": "2025-03-24T21:43:07.436490Z",
     "shell.execute_reply": "2025-03-24T21:43:07.435494Z"
    },
    "papermill": {
     "duration": 0.902086,
     "end_time": "2025-03-24T21:43:07.438540",
     "exception": false,
     "start_time": "2025-03-24T21:43:06.536454",
     "status": "completed"
    },
    "tags": []
   },
   "outputs": [],
   "source": [
    "df=pd.read_csv(r'train.csv')"
   ]
  },
  {
   "cell_type": "code",
   "execution_count": 3,
   "id": "dafbd03b",
   "metadata": {
    "execution": {
     "iopub.execute_input": "2025-03-24T21:43:07.453512Z",
     "iopub.status.busy": "2025-03-24T21:43:07.453130Z",
     "iopub.status.idle": "2025-03-24T21:43:07.460071Z",
     "shell.execute_reply": "2025-03-24T21:43:07.458910Z"
    },
    "papermill": {
     "duration": 0.01627,
     "end_time": "2025-03-24T21:43:07.461806",
     "exception": false,
     "start_time": "2025-03-24T21:43:07.445536",
     "status": "completed"
    },
    "tags": []
   },
   "outputs": [
    {
     "data": {
      "text/plain": [
       "(300000, 11)"
      ]
     },
     "execution_count": 3,
     "metadata": {},
     "output_type": "execute_result"
    }
   ],
   "source": [
    "df.shape"
   ]
  },
  {
   "cell_type": "code",
   "execution_count": 4,
   "id": "776d98f7",
   "metadata": {
    "execution": {
     "iopub.execute_input": "2025-03-24T21:43:07.476713Z",
     "iopub.status.busy": "2025-03-24T21:43:07.476317Z",
     "iopub.status.idle": "2025-03-24T21:43:07.628503Z",
     "shell.execute_reply": "2025-03-24T21:43:07.627363Z"
    },
    "papermill": {
     "duration": 0.161454,
     "end_time": "2025-03-24T21:43:07.630277",
     "exception": false,
     "start_time": "2025-03-24T21:43:07.468823",
     "status": "completed"
    },
    "tags": []
   },
   "outputs": [
    {
     "name": "stdout",
     "output_type": "stream",
     "text": [
      "<class 'pandas.core.frame.DataFrame'>\n",
      "RangeIndex: 300000 entries, 0 to 299999\n",
      "Data columns (total 11 columns):\n",
      " #   Column                Non-Null Count   Dtype  \n",
      "---  ------                --------------   -----  \n",
      " 0   id                    300000 non-null  int64  \n",
      " 1   Brand                 290295 non-null  object \n",
      " 2   Material              291653 non-null  object \n",
      " 3   Size                  293405 non-null  object \n",
      " 4   Compartments          300000 non-null  float64\n",
      " 5   Laptop Compartment    292556 non-null  object \n",
      " 6   Waterproof            292950 non-null  object \n",
      " 7   Style                 292030 non-null  object \n",
      " 8   Color                 290050 non-null  object \n",
      " 9   Weight Capacity (kg)  299862 non-null  float64\n",
      " 10  Price                 300000 non-null  float64\n",
      "dtypes: float64(3), int64(1), object(7)\n",
      "memory usage: 25.2+ MB\n"
     ]
    }
   ],
   "source": [
    "df.info()"
   ]
  },
  {
   "cell_type": "code",
   "execution_count": null,
   "id": "4fa16223",
   "metadata": {
    "execution": {
     "iopub.execute_input": "2025-03-24T21:43:07.645741Z",
     "iopub.status.busy": "2025-03-24T21:43:07.645250Z",
     "iopub.status.idle": "2025-03-24T21:43:16.764219Z",
     "shell.execute_reply": "2025-03-24T21:43:16.763087Z"
    },
    "papermill": {
     "duration": 9.128952,
     "end_time": "2025-03-24T21:43:16.766267",
     "exception": false,
     "start_time": "2025-03-24T21:43:07.637315",
     "status": "completed"
    },
    "tags": []
   },
   "outputs": [],
   "source": [
    "df2=pd.read_csv(r'training_extra.csv')"
   ]
  },
  {
   "cell_type": "code",
   "execution_count": 6,
   "id": "c952dda0",
   "metadata": {
    "execution": {
     "iopub.execute_input": "2025-03-24T21:43:16.782251Z",
     "iopub.status.busy": "2025-03-24T21:43:16.781864Z",
     "iopub.status.idle": "2025-03-24T21:43:16.787500Z",
     "shell.execute_reply": "2025-03-24T21:43:16.786471Z"
    },
    "papermill": {
     "duration": 0.015302,
     "end_time": "2025-03-24T21:43:16.789123",
     "exception": false,
     "start_time": "2025-03-24T21:43:16.773821",
     "status": "completed"
    },
    "tags": []
   },
   "outputs": [
    {
     "data": {
      "text/plain": [
       "(3694318, 11)"
      ]
     },
     "execution_count": 6,
     "metadata": {},
     "output_type": "execute_result"
    }
   ],
   "source": [
    "df2.shape"
   ]
  },
  {
   "cell_type": "code",
   "execution_count": 7,
   "id": "49ff4020",
   "metadata": {
    "execution": {
     "iopub.execute_input": "2025-03-24T21:43:16.804155Z",
     "iopub.status.busy": "2025-03-24T21:43:16.803791Z",
     "iopub.status.idle": "2025-03-24T21:43:18.065629Z",
     "shell.execute_reply": "2025-03-24T21:43:18.064704Z"
    },
    "papermill": {
     "duration": 1.271103,
     "end_time": "2025-03-24T21:43:18.067127",
     "exception": false,
     "start_time": "2025-03-24T21:43:16.796024",
     "status": "completed"
    },
    "tags": []
   },
   "outputs": [
    {
     "data": {
      "text/plain": [
       "id                           0\n",
       "Brand                   117053\n",
       "Material                102615\n",
       "Size                     81190\n",
       "Compartments                 0\n",
       "Laptop Compartment       91089\n",
       "Waterproof               87274\n",
       "Style                    96210\n",
       "Color                   123667\n",
       "Weight Capacity (kg)      1670\n",
       "Price                        0\n",
       "dtype: int64"
      ]
     },
     "execution_count": 7,
     "metadata": {},
     "output_type": "execute_result"
    }
   ],
   "source": [
    "df2.isnull().sum()"
   ]
  },
  {
   "cell_type": "code",
   "execution_count": 8,
   "id": "ef429bc3",
   "metadata": {
    "execution": {
     "iopub.execute_input": "2025-03-24T21:43:18.082401Z",
     "iopub.status.busy": "2025-03-24T21:43:18.082048Z",
     "iopub.status.idle": "2025-03-24T21:43:18.581178Z",
     "shell.execute_reply": "2025-03-24T21:43:18.580206Z"
    },
    "papermill": {
     "duration": 0.509112,
     "end_time": "2025-03-24T21:43:18.583203",
     "exception": false,
     "start_time": "2025-03-24T21:43:18.074091",
     "status": "completed"
    },
    "tags": []
   },
   "outputs": [],
   "source": [
    "#combining the train and training extra dataset\n",
    "df=pd.concat([df,df2])"
   ]
  },
  {
   "cell_type": "markdown",
   "id": "b8d6b7f5",
   "metadata": {
    "papermill": {
     "duration": 0.00769,
     "end_time": "2025-03-24T21:43:18.603018",
     "exception": false,
     "start_time": "2025-03-24T21:43:18.595328",
     "status": "completed"
    },
    "tags": []
   },
   "source": [
    "# EDA - Exploratory Data Analysis "
   ]
  },
  {
   "cell_type": "code",
   "execution_count": 9,
   "id": "9cdf4e44",
   "metadata": {
    "execution": {
     "iopub.execute_input": "2025-03-24T21:43:18.620690Z",
     "iopub.status.busy": "2025-03-24T21:43:18.620294Z",
     "iopub.status.idle": "2025-03-24T21:43:18.646257Z",
     "shell.execute_reply": "2025-03-24T21:43:18.645286Z"
    },
    "papermill": {
     "duration": 0.03646,
     "end_time": "2025-03-24T21:43:18.648054",
     "exception": false,
     "start_time": "2025-03-24T21:43:18.611594",
     "status": "completed"
    },
    "tags": []
   },
   "outputs": [
    {
     "data": {
      "text/html": [
       "<div>\n",
       "<style scoped>\n",
       "    .dataframe tbody tr th:only-of-type {\n",
       "        vertical-align: middle;\n",
       "    }\n",
       "\n",
       "    .dataframe tbody tr th {\n",
       "        vertical-align: top;\n",
       "    }\n",
       "\n",
       "    .dataframe thead th {\n",
       "        text-align: right;\n",
       "    }\n",
       "</style>\n",
       "<table border=\"1\" class=\"dataframe\">\n",
       "  <thead>\n",
       "    <tr style=\"text-align: right;\">\n",
       "      <th></th>\n",
       "      <th>id</th>\n",
       "      <th>Brand</th>\n",
       "      <th>Material</th>\n",
       "      <th>Size</th>\n",
       "      <th>Compartments</th>\n",
       "      <th>Laptop Compartment</th>\n",
       "      <th>Waterproof</th>\n",
       "      <th>Style</th>\n",
       "      <th>Color</th>\n",
       "      <th>Weight Capacity (kg)</th>\n",
       "      <th>Price</th>\n",
       "    </tr>\n",
       "  </thead>\n",
       "  <tbody>\n",
       "    <tr>\n",
       "      <th>0</th>\n",
       "      <td>0</td>\n",
       "      <td>Jansport</td>\n",
       "      <td>Leather</td>\n",
       "      <td>Medium</td>\n",
       "      <td>7.0</td>\n",
       "      <td>Yes</td>\n",
       "      <td>No</td>\n",
       "      <td>Tote</td>\n",
       "      <td>Black</td>\n",
       "      <td>11.611723</td>\n",
       "      <td>112.15875</td>\n",
       "    </tr>\n",
       "    <tr>\n",
       "      <th>1</th>\n",
       "      <td>1</td>\n",
       "      <td>Jansport</td>\n",
       "      <td>Canvas</td>\n",
       "      <td>Small</td>\n",
       "      <td>10.0</td>\n",
       "      <td>Yes</td>\n",
       "      <td>Yes</td>\n",
       "      <td>Messenger</td>\n",
       "      <td>Green</td>\n",
       "      <td>27.078537</td>\n",
       "      <td>68.88056</td>\n",
       "    </tr>\n",
       "    <tr>\n",
       "      <th>2</th>\n",
       "      <td>2</td>\n",
       "      <td>Under Armour</td>\n",
       "      <td>Leather</td>\n",
       "      <td>Small</td>\n",
       "      <td>2.0</td>\n",
       "      <td>Yes</td>\n",
       "      <td>No</td>\n",
       "      <td>Messenger</td>\n",
       "      <td>Red</td>\n",
       "      <td>16.643760</td>\n",
       "      <td>39.17320</td>\n",
       "    </tr>\n",
       "    <tr>\n",
       "      <th>3</th>\n",
       "      <td>3</td>\n",
       "      <td>Nike</td>\n",
       "      <td>Nylon</td>\n",
       "      <td>Small</td>\n",
       "      <td>8.0</td>\n",
       "      <td>Yes</td>\n",
       "      <td>No</td>\n",
       "      <td>Messenger</td>\n",
       "      <td>Green</td>\n",
       "      <td>12.937220</td>\n",
       "      <td>80.60793</td>\n",
       "    </tr>\n",
       "    <tr>\n",
       "      <th>4</th>\n",
       "      <td>4</td>\n",
       "      <td>Adidas</td>\n",
       "      <td>Canvas</td>\n",
       "      <td>Medium</td>\n",
       "      <td>1.0</td>\n",
       "      <td>Yes</td>\n",
       "      <td>Yes</td>\n",
       "      <td>Messenger</td>\n",
       "      <td>Green</td>\n",
       "      <td>17.749338</td>\n",
       "      <td>86.02312</td>\n",
       "    </tr>\n",
       "  </tbody>\n",
       "</table>\n",
       "</div>"
      ],
      "text/plain": [
       "   id         Brand Material    Size  Compartments Laptop Compartment  \\\n",
       "0   0      Jansport  Leather  Medium           7.0                Yes   \n",
       "1   1      Jansport   Canvas   Small          10.0                Yes   \n",
       "2   2  Under Armour  Leather   Small           2.0                Yes   \n",
       "3   3          Nike    Nylon   Small           8.0                Yes   \n",
       "4   4        Adidas   Canvas  Medium           1.0                Yes   \n",
       "\n",
       "  Waterproof      Style  Color  Weight Capacity (kg)      Price  \n",
       "0         No       Tote  Black             11.611723  112.15875  \n",
       "1        Yes  Messenger  Green             27.078537   68.88056  \n",
       "2         No  Messenger    Red             16.643760   39.17320  \n",
       "3         No  Messenger  Green             12.937220   80.60793  \n",
       "4        Yes  Messenger  Green             17.749338   86.02312  "
      ]
     },
     "execution_count": 9,
     "metadata": {},
     "output_type": "execute_result"
    }
   ],
   "source": [
    "df.head()"
   ]
  },
  {
   "cell_type": "code",
   "execution_count": 10,
   "id": "35c2c9dd",
   "metadata": {
    "execution": {
     "iopub.execute_input": "2025-03-24T21:43:18.663648Z",
     "iopub.status.busy": "2025-03-24T21:43:18.663282Z",
     "iopub.status.idle": "2025-03-24T21:43:18.673283Z",
     "shell.execute_reply": "2025-03-24T21:43:18.672011Z"
    },
    "papermill": {
     "duration": 0.019678,
     "end_time": "2025-03-24T21:43:18.675079",
     "exception": false,
     "start_time": "2025-03-24T21:43:18.655401",
     "status": "completed"
    },
    "tags": []
   },
   "outputs": [
    {
     "name": "stdout",
     "output_type": "stream",
     "text": [
      "<class 'pandas.core.frame.DataFrame'>\n",
      "Index: 3994318 entries, 0 to 3694317\n",
      "Data columns (total 11 columns):\n",
      " #   Column                Dtype  \n",
      "---  ------                -----  \n",
      " 0   id                    int64  \n",
      " 1   Brand                 object \n",
      " 2   Material              object \n",
      " 3   Size                  object \n",
      " 4   Compartments          float64\n",
      " 5   Laptop Compartment    object \n",
      " 6   Waterproof            object \n",
      " 7   Style                 object \n",
      " 8   Color                 object \n",
      " 9   Weight Capacity (kg)  float64\n",
      " 10  Price                 float64\n",
      "dtypes: float64(3), int64(1), object(7)\n",
      "memory usage: 365.7+ MB\n"
     ]
    }
   ],
   "source": [
    "df.info()"
   ]
  },
  {
   "cell_type": "code",
   "execution_count": 11,
   "id": "3bcc6d24",
   "metadata": {
    "execution": {
     "iopub.execute_input": "2025-03-24T21:43:18.691332Z",
     "iopub.status.busy": "2025-03-24T21:43:18.690986Z",
     "iopub.status.idle": "2025-03-24T21:43:18.696436Z",
     "shell.execute_reply": "2025-03-24T21:43:18.695476Z"
    },
    "papermill": {
     "duration": 0.015358,
     "end_time": "2025-03-24T21:43:18.697932",
     "exception": false,
     "start_time": "2025-03-24T21:43:18.682574",
     "status": "completed"
    },
    "tags": []
   },
   "outputs": [
    {
     "data": {
      "text/plain": [
       "(3994318, 11)"
      ]
     },
     "execution_count": 11,
     "metadata": {},
     "output_type": "execute_result"
    }
   ],
   "source": [
    "df.shape"
   ]
  },
  {
   "cell_type": "code",
   "execution_count": 12,
   "id": "76bc2c98",
   "metadata": {
    "execution": {
     "iopub.execute_input": "2025-03-24T21:43:18.714042Z",
     "iopub.status.busy": "2025-03-24T21:43:18.713644Z",
     "iopub.status.idle": "2025-03-24T21:43:20.085326Z",
     "shell.execute_reply": "2025-03-24T21:43:20.084338Z"
    },
    "papermill": {
     "duration": 1.381593,
     "end_time": "2025-03-24T21:43:20.086872",
     "exception": false,
     "start_time": "2025-03-24T21:43:18.705279",
     "status": "completed"
    },
    "tags": []
   },
   "outputs": [
    {
     "data": {
      "text/plain": [
       "id                           0\n",
       "Brand                   126758\n",
       "Material                110962\n",
       "Size                     87785\n",
       "Compartments                 0\n",
       "Laptop Compartment       98533\n",
       "Waterproof               94324\n",
       "Style                   104180\n",
       "Color                   133617\n",
       "Weight Capacity (kg)      1808\n",
       "Price                        0\n",
       "dtype: int64"
      ]
     },
     "execution_count": 12,
     "metadata": {},
     "output_type": "execute_result"
    }
   ],
   "source": [
    "df.isnull().sum()"
   ]
  },
  {
   "cell_type": "code",
   "execution_count": 13,
   "id": "2f39d3e7",
   "metadata": {
    "execution": {
     "iopub.execute_input": "2025-03-24T21:43:20.103049Z",
     "iopub.status.busy": "2025-03-24T21:43:20.102663Z",
     "iopub.status.idle": "2025-03-24T21:43:37.918022Z",
     "shell.execute_reply": "2025-03-24T21:43:37.916916Z"
    },
    "papermill": {
     "duration": 17.825557,
     "end_time": "2025-03-24T21:43:37.919888",
     "exception": false,
     "start_time": "2025-03-24T21:43:20.094331",
     "status": "completed"
    },
    "tags": []
   },
   "outputs": [
    {
     "data": {
      "image/png": "[encoded data removed]",
      "text/plain": [
       "<Figure size 1000x600 with 1 Axes>"
      ]
     },
     "metadata": {},
     "output_type": "display_data"
    }
   ],
   "source": [
    "#price distribution\n",
    "plt.figure(figsize=(10, 6))\n",
    "sns.histplot(df[\"Price\"], kde=True, color=\"teal\", bins=30)\n",
    "plt.title(\"Price Distribution of Bags\", fontsize=16)\n",
    "plt.xlabel(\"Price\", fontsize=12)\n",
    "plt.ylabel(\"Frequency\", fontsize=12)\n",
    "plt.tight_layout()\n",
    "plt.show()"
   ]
  },
  {
   "cell_type": "code",
   "execution_count": 14,
   "id": "6e2f37d2",
   "metadata": {
    "execution": {
     "iopub.execute_input": "2025-03-24T21:43:37.938292Z",
     "iopub.status.busy": "2025-03-24T21:43:37.937955Z",
     "iopub.status.idle": "2025-03-24T21:43:38.522090Z",
     "shell.execute_reply": "2025-03-24T21:43:38.520910Z"
    },
    "papermill": {
     "duration": 0.595499,
     "end_time": "2025-03-24T21:43:38.524142",
     "exception": false,
     "start_time": "2025-03-24T21:43:37.928643",
     "status": "completed"
    },
    "tags": []
   },
   "outputs": [
    {
     "data": {
      "image/png": "[encoded data removed]",
      "text/plain": [
       "<Figure size 1000x600 with 1 Axes>"
      ]
     },
     "metadata": {},
     "output_type": "display_data"
    }
   ],
   "source": [
    "#price vs brand\n",
    "plt.figure(figsize=(10, 6))\n",
    "brand_price = df.groupby(\"Brand\")[\"Price\"].mean().sort_values(ascending=False)\n",
    "sns.barplot(x=brand_price.index, y=brand_price.values, palette=\"muted\")\n",
    "plt.title(\"Average Price by Brand\", fontsize=16)\n",
    "plt.xlabel(\"Brand\", fontsize=12)\n",
    "plt.ylabel(\"Average Price\", fontsize=12)\n",
    "plt.xticks(rotation=45)\n",
    "plt.tight_layout()\n",
    "plt.show()"
   ]
  },
  {
   "cell_type": "code",
   "execution_count": 15,
   "id": "8d592768",
   "metadata": {},
   "outputs": [
    {
     "data": {
      "text/html": [
       "<div>\n",
       "<style scoped>\n",
       "    .dataframe tbody tr th:only-of-type {\n",
       "        vertical-align: middle;\n",
       "    }\n",
       "\n",
       "    .dataframe tbody tr th {\n",
       "        vertical-align: top;\n",
       "    }\n",
       "\n",
       "    .dataframe thead th {\n",
       "        text-align: right;\n",
       "    }\n",
       "</style>\n",
       "<table border=\"1\" class=\"dataframe\">\n",
       "  <thead>\n",
       "    <tr style=\"text-align: right;\">\n",
       "      <th></th>\n",
       "      <th>id</th>\n",
       "      <th>Brand</th>\n",
       "      <th>Material</th>\n",
       "      <th>Size</th>\n",
       "      <th>Compartments</th>\n",
       "      <th>Laptop Compartment</th>\n",
       "      <th>Waterproof</th>\n",
       "      <th>Style</th>\n",
       "      <th>Color</th>\n",
       "      <th>Weight Capacity (kg)</th>\n",
       "      <th>Price</th>\n",
       "    </tr>\n",
       "  </thead>\n",
       "  <tbody>\n",
       "    <tr>\n",
       "      <th>0</th>\n",
       "      <td>0</td>\n",
       "      <td>Jansport</td>\n",
       "      <td>Leather</td>\n",
       "      <td>Medium</td>\n",
       "      <td>7.0</td>\n",
       "      <td>Yes</td>\n",
       "      <td>No</td>\n",
       "      <td>Tote</td>\n",
       "      <td>Black</td>\n",
       "      <td>11.611723</td>\n",
       "      <td>112.15875</td>\n",
       "    </tr>\n",
       "    <tr>\n",
       "      <th>1</th>\n",
       "      <td>1</td>\n",
       "      <td>Jansport</td>\n",
       "      <td>Canvas</td>\n",
       "      <td>Small</td>\n",
       "      <td>10.0</td>\n",
       "      <td>Yes</td>\n",
       "      <td>Yes</td>\n",
       "      <td>Messenger</td>\n",
       "      <td>Green</td>\n",
       "      <td>27.078537</td>\n",
       "      <td>68.88056</td>\n",
       "    </tr>\n",
       "    <tr>\n",
       "      <th>2</th>\n",
       "      <td>2</td>\n",
       "      <td>Under Armour</td>\n",
       "      <td>Leather</td>\n",
       "      <td>Small</td>\n",
       "      <td>2.0</td>\n",
       "      <td>Yes</td>\n",
       "      <td>No</td>\n",
       "      <td>Messenger</td>\n",
       "      <td>Red</td>\n",
       "      <td>16.643760</td>\n",
       "      <td>39.17320</td>\n",
       "    </tr>\n",
       "    <tr>\n",
       "      <th>3</th>\n",
       "      <td>3</td>\n",
       "      <td>Nike</td>\n",
       "      <td>Nylon</td>\n",
       "      <td>Small</td>\n",
       "      <td>8.0</td>\n",
       "      <td>Yes</td>\n",
       "      <td>No</td>\n",
       "      <td>Messenger</td>\n",
       "      <td>Green</td>\n",
       "      <td>12.937220</td>\n",
       "      <td>80.60793</td>\n",
       "    </tr>\n",
       "    <tr>\n",
       "      <th>4</th>\n",
       "      <td>4</td>\n",
       "      <td>Adidas</td>\n",
       "      <td>Canvas</td>\n",
       "      <td>Medium</td>\n",
       "      <td>1.0</td>\n",
       "      <td>Yes</td>\n",
       "      <td>Yes</td>\n",
       "      <td>Messenger</td>\n",
       "      <td>Green</td>\n",
       "      <td>17.749338</td>\n",
       "      <td>86.02312</td>\n",
       "    </tr>\n",
       "  </tbody>\n",
       "</table>\n",
       "</div>"
      ],
      "text/plain": [
       "   id         Brand Material    Size  Compartments Laptop Compartment  \\\n",
       "0   0      Jansport  Leather  Medium           7.0                Yes   \n",
       "1   1      Jansport   Canvas   Small          10.0                Yes   \n",
       "2   2  Under Armour  Leather   Small           2.0                Yes   \n",
       "3   3          Nike    Nylon   Small           8.0                Yes   \n",
       "4   4        Adidas   Canvas  Medium           1.0                Yes   \n",
       "\n",
       "  Waterproof      Style  Color  Weight Capacity (kg)      Price  \n",
       "0         No       Tote  Black             11.611723  112.15875  \n",
       "1        Yes  Messenger  Green             27.078537   68.88056  \n",
       "2         No  Messenger    Red             16.643760   39.17320  \n",
       "3         No  Messenger  Green             12.937220   80.60793  \n",
       "4        Yes  Messenger  Green             17.749338   86.02312  "
      ]
     },
     "execution_count": 15,
     "metadata": {},
     "output_type": "execute_result"
    }
   ],
   "source": [
    "df.head()"
   ]
  },
  {
   "cell_type": "code",
   "execution_count": null,
   "id": "4b02487f",
   "metadata": {
    "execution": {
     "iopub.execute_input": "2025-03-24T21:43:38.544488Z",
     "iopub.status.busy": "2025-03-24T21:43:38.544128Z",
     "iopub.status.idle": "2025-03-24T21:43:40.677070Z",
     "shell.execute_reply": "2025-03-24T21:43:40.675843Z"
    },
    "papermill": {
     "duration": 2.145201,
     "end_time": "2025-03-24T21:43:40.679167",
     "exception": false,
     "start_time": "2025-03-24T21:43:38.533966",
     "status": "completed"
    },
    "tags": []
   },
   "outputs": [],
   "source": []
  },
  {
   "cell_type": "code",
   "execution_count": 16,
   "id": "a134d438",
   "metadata": {
    "execution": {
     "iopub.execute_input": "2025-03-24T21:43:40.700280Z",
     "iopub.status.busy": "2025-03-24T21:43:40.699927Z",
     "iopub.status.idle": "2025-03-24T21:43:41.171979Z",
     "shell.execute_reply": "2025-03-24T21:43:41.170764Z"
    },
    "papermill": {
     "duration": 0.484983,
     "end_time": "2025-03-24T21:43:41.174089",
     "exception": false,
     "start_time": "2025-03-24T21:43:40.689106",
     "status": "completed"
    },
    "tags": []
   },
   "outputs": [
    {
     "data": {
      "image/png": "[encoded data removed]",
      "text/plain": [
       "<Figure size 1000x600 with 1 Axes>"
      ]
     },
     "metadata": {},
     "output_type": "display_data"
    }
   ],
   "source": [
    "#style popularity\n",
    "plt.figure(figsize=(10, 6))\n",
    "style_counts = df[\"Style\"].value_counts()\n",
    "sns.barplot(y=style_counts.index, x=style_counts.values, palette=\"crest\")\n",
    "plt.title(\"Style Popularity\", fontsize=16)\n",
    "plt.xlabel(\"Number of Bags\", fontsize=12)\n",
    "plt.ylabel(\"Style\", fontsize=12)\n",
    "plt.tight_layout()\n",
    "plt.show()"
   ]
  },
  {
   "cell_type": "code",
   "execution_count": null,
   "id": "1e3b36e8",
   "metadata": {
    "execution": {
     "iopub.execute_input": "2025-03-24T21:43:41.196177Z",
     "iopub.status.busy": "2025-03-24T21:43:41.195786Z",
     "iopub.status.idle": "2025-03-24T21:43:43.519225Z",
     "shell.execute_reply": "2025-03-24T21:43:43.518163Z"
    },
    "papermill": {
     "duration": 2.336646,
     "end_time": "2025-03-24T21:43:43.521054",
     "exception": false,
     "start_time": "2025-03-24T21:43:41.184408",
     "status": "completed"
    },
    "tags": []
   },
   "outputs": [],
   "source": []
  },
  {
   "cell_type": "markdown",
   "id": "9cf0d7bd",
   "metadata": {
    "papermill": {
     "duration": 0.012026,
     "end_time": "2025-03-24T21:43:43.545864",
     "exception": false,
     "start_time": "2025-03-24T21:43:43.533838",
     "status": "completed"
    },
    "tags": []
   },
   "source": [
    "# Feature Engineering"
   ]
  },
  {
   "cell_type": "code",
   "execution_count": 17,
   "id": "a706f3ae",
   "metadata": {
    "execution": {
     "iopub.execute_input": "2025-03-24T21:43:43.569794Z",
     "iopub.status.busy": "2025-03-24T21:43:43.569389Z",
     "iopub.status.idle": "2025-03-24T21:43:43.890186Z",
     "shell.execute_reply": "2025-03-24T21:43:43.889267Z"
    },
    "papermill": {
     "duration": 0.334704,
     "end_time": "2025-03-24T21:43:43.892178",
     "exception": false,
     "start_time": "2025-03-24T21:43:43.557474",
     "status": "completed"
    },
    "tags": []
   },
   "outputs": [],
   "source": [
    "#dropping the 'id' column\n",
    "df = df.drop(columns=[\"id\"])"
   ]
  },
  {
   "cell_type": "code",
   "execution_count": 18,
   "id": "f8d5bf15",
   "metadata": {
    "execution": {
     "iopub.execute_input": "2025-03-24T21:43:43.915505Z",
     "iopub.status.busy": "2025-03-24T21:43:43.915151Z",
     "iopub.status.idle": "2025-03-24T21:43:44.456867Z",
     "shell.execute_reply": "2025-03-24T21:43:44.456032Z"
    },
    "papermill": {
     "duration": 0.555695,
     "end_time": "2025-03-24T21:43:44.458872",
     "exception": false,
     "start_time": "2025-03-24T21:43:43.903177",
     "status": "completed"
    },
    "tags": []
   },
   "outputs": [],
   "source": [
    "#filling the empty numeric columns with mean\n",
    "numeric_cols = df.select_dtypes(include=[\"float64\", \"int64\"]).columns\n",
    "df[numeric_cols] = df[numeric_cols].fillna(df[numeric_cols].mean())"
   ]
  },
  {
   "cell_type": "code",
   "execution_count": 19,
   "id": "4b11feb7",
   "metadata": {
    "execution": {
     "iopub.execute_input": "2025-03-24T21:43:44.482083Z",
     "iopub.status.busy": "2025-03-24T21:43:44.481606Z",
     "iopub.status.idle": "2025-03-24T21:43:49.794108Z",
     "shell.execute_reply": "2025-03-24T21:43:49.793046Z"
    },
    "papermill": {
     "duration": 5.32614,
     "end_time": "2025-03-24T21:43:49.796227",
     "exception": false,
     "start_time": "2025-03-24T21:43:44.470087",
     "status": "completed"
    },
    "tags": []
   },
   "outputs": [],
   "source": [
    "#filling the empty categorical columns with mode\n",
    "categorical_cols = df.select_dtypes(include=[\"object\"]).columns\n",
    "for col in categorical_cols:\n",
    "    df[col] = df[col].fillna(df[col].mode()[0])"
   ]
  },
  {
   "cell_type": "markdown",
   "id": "420ab0c1",
   "metadata": {
    "papermill": {
     "duration": 0.010245,
     "end_time": "2025-03-24T21:43:49.817813",
     "exception": false,
     "start_time": "2025-03-24T21:43:49.807568",
     "status": "completed"
    },
    "tags": []
   },
   "source": [
    "# Deep Learning Modelling"
   ]
  },
  {
   "cell_type": "code",
   "execution_count": 20,
   "id": "0fee5078",
   "metadata": {
    "execution": {
     "iopub.execute_input": "2025-03-24T21:43:49.840075Z",
     "iopub.status.busy": "2025-03-24T21:43:49.839655Z",
     "iopub.status.idle": "2025-03-24T21:43:59.053186Z",
     "shell.execute_reply": "2025-03-24T21:43:59.051928Z"
    },
    "papermill": {
     "duration": 9.226697,
     "end_time": "2025-03-24T21:43:59.055032",
     "exception": false,
     "start_time": "2025-03-24T21:43:49.828335",
     "status": "completed"
    },
    "tags": []
   },
   "outputs": [],
   "source": [
    "#one-hot encoding categorical features\n",
    "df = pd.get_dummies(df, drop_first=True)\n",
    "\n",
    "x = df.drop(columns=[\"Price\"])\n",
    "y = df[\"Price\"]\n",
    "\n",
    "x_train, x_test, y_train, y_test = train_test_split(x, y, test_size=0.2, random_state=42)\n",
    "\n",
    "#scaling\n",
    "scaler = StandardScaler()\n",
    "x_train_scaled = scaler.fit_transform(x_train)\n",
    "x_test_scaled = scaler.transform(x_test)"
   ]
  },
  {
   "cell_type": "code",
   "execution_count": 21,
   "id": "777258e8",
   "metadata": {
    "execution": {
     "iopub.execute_input": "2025-03-24T21:43:59.077709Z",
     "iopub.status.busy": "2025-03-24T21:43:59.077306Z",
     "iopub.status.idle": "2025-03-24T21:43:59.210062Z",
     "shell.execute_reply": "2025-03-24T21:43:59.209166Z"
    },
    "papermill": {
     "duration": 0.146387,
     "end_time": "2025-03-24T21:43:59.212085",
     "exception": false,
     "start_time": "2025-03-24T21:43:59.065698",
     "status": "completed"
    },
    "tags": []
   },
   "outputs": [],
   "source": [
    "#building the model\n",
    "model = Sequential([\n",
    "    Dense(512, activation=\"relu\", input_shape=(x_train_scaled.shape[1],)),\n",
    "    Dropout(0.3),\n",
    "    Dense(256, activation=\"relu\"),\n",
    "    Dropout(0.2),\n",
    "    Dense(128, activation=\"relu\"),\n",
    "    Dropout(0.2),\n",
    "    Dense(64, activation=\"relu\"),\n",
    "    Dropout(0.2),\n",
    "    Dense(32, activation=\"relu\"),\n",
    "    Dense(1)\n",
    "])\n",
    "\n",
    "#compiling the model\n",
    "model.compile(optimizer=tf.keras.optimizers.Adam(learning_rate=0.001),\n",
    "              loss=\"mse\", metrics=[\"mae\"])"
   ]
  },
  {
   "cell_type": "code",
   "execution_count": 22,
   "id": "4e997e87",
   "metadata": {
    "execution": {
     "iopub.execute_input": "2025-03-24T21:43:59.234380Z",
     "iopub.status.busy": "2025-03-24T21:43:59.234051Z",
     "iopub.status.idle": "2025-03-24T22:20:55.483805Z",
     "shell.execute_reply": "2025-03-24T22:20:55.482298Z"
    },
    "papermill": {
     "duration": 2216.263456,
     "end_time": "2025-03-24T22:20:55.486250",
     "exception": false,
     "start_time": "2025-03-24T21:43:59.222794",
     "status": "completed"
    },
    "tags": []
   },
   "outputs": [
    {
     "name": "stdout",
     "output_type": "stream",
     "text": [
      "Epoch 1/30\n",
      "\u001b[1m3121/3121\u001b[0m \u001b[32m━━━━━━━━━━━━━━━━━━━━\u001b[0m\u001b[37m\u001b[0m \u001b[1m65s\u001b[0m 20ms/step - loss: 1794.4976 - mae: 35.7161 - val_loss: 1945.3613 - val_mae: 36.7455\n",
      "Epoch 2/30\n",
      "\u001b[1m3121/3121\u001b[0m \u001b[32m━━━━━━━━━━━━━━━━━━━━\u001b[0m\u001b[37m\u001b[0m \u001b[1m62s\u001b[0m 20ms/step - loss: 1557.1375 - mae: 33.9926 - val_loss: 1869.0138 - val_mae: 36.1920\n",
      "Epoch 3/30\n",
      "\u001b[1m3121/3121\u001b[0m \u001b[32m━━━━━━━━━━━━━━━━━━━━\u001b[0m\u001b[37m\u001b[0m \u001b[1m63s\u001b[0m 20ms/step - loss: 1545.8540 - mae: 33.9018 - val_loss: 2041.1115 - val_mae: 37.4430\n",
      "Epoch 4/30\n",
      "\u001b[1m3121/3121\u001b[0m \u001b[32m━━━━━━━━━━━━━━━━━━━━\u001b[0m\u001b[37m\u001b[0m \u001b[1m61s\u001b[0m 19ms/step - loss: 1538.2156 - mae: 33.8499 - val_loss: 1887.5815 - val_mae: 36.3319\n",
      "Epoch 5/30\n",
      "\u001b[1m3121/3121\u001b[0m \u001b[32m━━━━━━━━━━━━━━━━━━━━\u001b[0m\u001b[37m\u001b[0m \u001b[1m60s\u001b[0m 19ms/step - loss: 1532.8170 - mae: 33.8161 - val_loss: 1873.8413 - val_mae: 36.2357\n",
      "Epoch 6/30\n",
      "\u001b[1m3121/3121\u001b[0m \u001b[32m━━━━━━━━━━━━━━━━━━━━\u001b[0m\u001b[37m\u001b[0m \u001b[1m58s\u001b[0m 19ms/step - loss: 1525.9207 - mae: 33.7580 - val_loss: 1983.6545 - val_mae: 37.0303\n",
      "Epoch 7/30\n",
      "\u001b[1m3121/3121\u001b[0m \u001b[32m━━━━━━━━━━━━━━━━━━━━\u001b[0m\u001b[37m\u001b[0m \u001b[1m59s\u001b[0m 19ms/step - loss: 1523.7681 - mae: 33.7418 - val_loss: 1755.9132 - val_mae: 35.3816\n",
      "Epoch 8/30\n",
      "\u001b[1m3121/3121\u001b[0m \u001b[32m━━━━━━━━━━━━━━━━━━━━\u001b[0m\u001b[37m\u001b[0m \u001b[1m58s\u001b[0m 19ms/step - loss: 1520.7473 - mae: 33.7078 - val_loss: 1708.6859 - val_mae: 35.0404\n",
      "Epoch 9/30\n",
      "\u001b[1m3121/3121\u001b[0m \u001b[32m━━━━━━━━━━━━━━━━━━━━\u001b[0m\u001b[37m\u001b[0m \u001b[1m61s\u001b[0m 20ms/step - loss: 1521.2612 - mae: 33.7226 - val_loss: 1667.2299 - val_mae: 34.7363\n",
      "Epoch 10/30\n",
      "\u001b[1m3121/3121\u001b[0m \u001b[32m━━━━━━━━━━━━━━━━━━━━\u001b[0m\u001b[37m\u001b[0m \u001b[1m60s\u001b[0m 19ms/step - loss: 1519.0947 - mae: 33.7037 - val_loss: 1607.1652 - val_mae: 34.3035\n",
      "Epoch 11/30\n",
      "\u001b[1m3121/3121\u001b[0m \u001b[32m━━━━━━━━━━━━━━━━━━━━\u001b[0m\u001b[37m\u001b[0m \u001b[1m60s\u001b[0m 19ms/step - loss: 1516.8049 - mae: 33.6748 - val_loss: 1625.8580 - val_mae: 34.4417\n",
      "Epoch 12/30\n",
      "\u001b[1m3121/3121\u001b[0m \u001b[32m━━━━━━━━━━━━━━━━━━━━\u001b[0m\u001b[37m\u001b[0m \u001b[1m61s\u001b[0m 19ms/step - loss: 1518.1696 - mae: 33.7012 - val_loss: 1567.2528 - val_mae: 34.0137\n",
      "Epoch 13/30\n",
      "\u001b[1m3121/3121\u001b[0m \u001b[32m━━━━━━━━━━━━━━━━━━━━\u001b[0m\u001b[37m\u001b[0m \u001b[1m61s\u001b[0m 20ms/step - loss: 1517.9484 - mae: 33.6976 - val_loss: 1581.7579 - val_mae: 34.1217\n",
      "Epoch 14/30\n",
      "\u001b[1m3121/3121\u001b[0m \u001b[32m━━━━━━━━━━━━━━━━━━━━\u001b[0m\u001b[37m\u001b[0m \u001b[1m60s\u001b[0m 19ms/step - loss: 1515.2798 - mae: 33.6674 - val_loss: 1560.5505 - val_mae: 33.9732\n",
      "Epoch 15/30\n",
      "\u001b[1m3121/3121\u001b[0m \u001b[32m━━━━━━━━━━━━━━━━━━━━\u001b[0m\u001b[37m\u001b[0m \u001b[1m58s\u001b[0m 19ms/step - loss: 1516.7732 - mae: 33.6900 - val_loss: 1547.9537 - val_mae: 33.8800\n",
      "Epoch 16/30\n",
      "\u001b[1m3121/3121\u001b[0m \u001b[32m━━━━━━━━━━━━━━━━━━━━\u001b[0m\u001b[37m\u001b[0m \u001b[1m58s\u001b[0m 19ms/step - loss: 1515.8232 - mae: 33.6748 - val_loss: 1538.9972 - val_mae: 33.8193\n",
      "Epoch 17/30\n",
      "\u001b[1m3121/3121\u001b[0m \u001b[32m━━━━━━━━━━━━━━━━━━━━\u001b[0m\u001b[37m\u001b[0m \u001b[1m59s\u001b[0m 19ms/step - loss: 1517.1801 - mae: 33.6963 - val_loss: 1549.5942 - val_mae: 33.8958\n",
      "Epoch 18/30\n",
      "\u001b[1m3121/3121\u001b[0m \u001b[32m━━━━━━━━━━━━━━━━━━━━\u001b[0m\u001b[37m\u001b[0m \u001b[1m60s\u001b[0m 19ms/step - loss: 1516.0704 - mae: 33.6843 - val_loss: 1536.3752 - val_mae: 33.8043\n",
      "Epoch 19/30\n",
      "\u001b[1m3121/3121\u001b[0m \u001b[32m━━━━━━━━━━━━━━━━━━━━\u001b[0m\u001b[37m\u001b[0m \u001b[1m63s\u001b[0m 20ms/step - loss: 1513.8329 - mae: 33.6486 - val_loss: 1537.2533 - val_mae: 33.8113\n",
      "Epoch 20/30\n",
      "\u001b[1m3121/3121\u001b[0m \u001b[32m━━━━━━━━━━━━━━━━━━━━\u001b[0m\u001b[37m\u001b[0m \u001b[1m101s\u001b[0m 32ms/step - loss: 1514.8372 - mae: 33.6673 - val_loss: 1536.5972 - val_mae: 33.8042\n",
      "Epoch 21/30\n",
      "\u001b[1m3121/3121\u001b[0m \u001b[32m━━━━━━━━━━━━━━━━━━━━\u001b[0m\u001b[37m\u001b[0m \u001b[1m146s\u001b[0m 34ms/step - loss: 1515.9125 - mae: 33.6792 - val_loss: 1526.8773 - val_mae: 33.7343\n",
      "Epoch 22/30\n",
      "\u001b[1m3121/3121\u001b[0m \u001b[32m━━━━━━━━━━━━━━━━━━━━\u001b[0m\u001b[37m\u001b[0m \u001b[1m110s\u001b[0m 35ms/step - loss: 1514.5754 - mae: 33.6681 - val_loss: 1523.8284 - val_mae: 33.7213\n",
      "Epoch 23/30\n",
      "\u001b[1m3121/3121\u001b[0m \u001b[32m━━━━━━━━━━━━━━━━━━━━\u001b[0m\u001b[37m\u001b[0m \u001b[1m104s\u001b[0m 33ms/step - loss: 1514.2278 - mae: 33.6591 - val_loss: 1519.6482 - val_mae: 33.6882\n",
      "Epoch 24/30\n",
      "\u001b[1m3121/3121\u001b[0m \u001b[32m━━━━━━━━━━━━━━━━━━━━\u001b[0m\u001b[37m\u001b[0m \u001b[1m101s\u001b[0m 32ms/step - loss: 1515.6451 - mae: 33.6751 - val_loss: 1515.8702 - val_mae: 33.6610\n",
      "Epoch 25/30\n",
      "\u001b[1m3121/3121\u001b[0m \u001b[32m━━━━━━━━━━━━━━━━━━━━\u001b[0m\u001b[37m\u001b[0m \u001b[1m102s\u001b[0m 32ms/step - loss: 1515.2405 - mae: 33.6724 - val_loss: 1516.2610 - val_mae: 33.6678\n",
      "Epoch 26/30\n",
      "\u001b[1m3121/3121\u001b[0m \u001b[32m━━━━━━━━━━━━━━━━━━━━\u001b[0m\u001b[37m\u001b[0m \u001b[1m100s\u001b[0m 32ms/step - loss: 1513.8687 - mae: 33.6516 - val_loss: 1513.9955 - val_mae: 33.6517\n",
      "Epoch 27/30\n",
      "\u001b[1m3121/3121\u001b[0m \u001b[32m━━━━━━━━━━━━━━━━━━━━\u001b[0m\u001b[37m\u001b[0m \u001b[1m99s\u001b[0m 32ms/step - loss: 1514.0631 - mae: 33.6573 - val_loss: 1513.6912 - val_mae: 33.6519\n",
      "Epoch 28/30\n",
      "\u001b[1m3121/3121\u001b[0m \u001b[32m━━━━━━━━━━━━━━━━━━━━\u001b[0m\u001b[37m\u001b[0m \u001b[1m110s\u001b[0m 35ms/step - loss: 1514.8336 - mae: 33.6715 - val_loss: 1514.0729 - val_mae: 33.6552\n",
      "Epoch 29/30\n",
      "\u001b[1m3121/3121\u001b[0m \u001b[32m━━━━━━━━━━━━━━━━━━━━\u001b[0m\u001b[37m\u001b[0m \u001b[1m105s\u001b[0m 33ms/step - loss: 1514.1611 - mae: 33.6566 - val_loss: 1513.9728 - val_mae: 33.6578\n",
      "Epoch 30/30\n",
      "\u001b[1m3121/3121\u001b[0m \u001b[32m━━━━━━━━━━━━━━━━━━━━\u001b[0m\u001b[37m\u001b[0m \u001b[1m102s\u001b[0m 33ms/step - loss: 1515.1151 - mae: 33.6707 - val_loss: 1513.0166 - val_mae: 33.6525\n"
     ]
    }
   ],
   "source": [
    "#early stopping\n",
    "early_stop = EarlyStopping(monitor=\"val_loss\", patience=10, restore_best_weights=True)\n",
    "\n",
    "#training the model\n",
    "history = model.fit(x_train_scaled, y_train, validation_data=(x_test_scaled, y_test), \n",
    "                    epochs=30, batch_size=1024, callbacks=[early_stop], verbose=1)"
   ]
  },
  {
   "cell_type": "code",
   "execution_count": 23,
   "id": "98deefb8",
   "metadata": {
    "execution": {
     "iopub.execute_input": "2025-03-24T22:20:55.510467Z",
     "iopub.status.busy": "2025-03-24T22:20:55.510116Z",
     "iopub.status.idle": "2025-03-24T22:21:43.999487Z",
     "shell.execute_reply": "2025-03-24T22:21:43.998059Z"
    },
    "papermill": {
     "duration": 48.503029,
     "end_time": "2025-03-24T22:21:44.001483",
     "exception": false,
     "start_time": "2025-03-24T22:20:55.498454",
     "status": "completed"
    },
    "tags": []
   },
   "outputs": [
    {
     "name": "stdout",
     "output_type": "stream",
     "text": [
      "\u001b[1m24965/24965\u001b[0m \u001b[32m━━━━━━━━━━━━━━━━━━━━\u001b[0m\u001b[37m\u001b[0m \u001b[1m110s\u001b[0m 4ms/step\n",
      "RMSE: 38.89751903775029\n"
     ]
    }
   ],
   "source": [
    "#evaluate the model\n",
    "predictions = model.predict(x_test_scaled)\n",
    "rmse = np.sqrt(mean_squared_error(y_test, predictions))\n",
    "\n",
    "print(f\"RMSE: {rmse}\")"
   ]
  },
  {
   "cell_type": "code",
   "execution_count": 24,
   "id": "87b4b790",
   "metadata": {
    "execution": {
     "iopub.execute_input": "2025-03-24T22:21:44.109695Z",
     "iopub.status.busy": "2025-03-24T22:21:44.109163Z",
     "iopub.status.idle": "2025-03-24T22:21:44.141840Z",
     "shell.execute_reply": "2025-03-24T22:21:44.140797Z"
    },
    "papermill": {
     "duration": 0.088327,
     "end_time": "2025-03-24T22:21:44.143694",
     "exception": false,
     "start_time": "2025-03-24T22:21:44.055367",
     "status": "completed"
    },
    "tags": []
   },
   "outputs": [
    {
     "data": {
      "text/html": [
       "<pre style=\"white-space:pre;overflow-x:auto;line-height:normal;font-family:Menlo,'DejaVu Sans Mono',consolas,'Courier New',monospace\"><span style=\"font-weight: bold\">Model: \"sequential\"</span>\n",
       "</pre>\n"
      ],
      "text/plain": [
       "\u001b[1mModel: \"sequential\"\u001b[0m\n"
      ]
     },
     "metadata": {},
     "output_type": "display_data"
    },
    {
     "data": {
      "text/html": [
       "<pre style=\"white-space:pre;overflow-x:auto;line-height:normal;font-family:Menlo,'DejaVu Sans Mono',consolas,'Courier New',monospace\">┏━━━━━━━━━━━━━━━━━━━━━━━━━━━━━━━━━┳━━━━━━━━━━━━━━━━━━━━━━━━┳━━━━━━━━━━━━━━━┓\n",
       "┃<span style=\"font-weight: bold\"> Layer (type)                    </span>┃<span style=\"font-weight: bold\"> Output Shape           </span>┃<span style=\"font-weight: bold\">       Param # </span>┃\n",
       "┡━━━━━━━━━━━━━━━━━━━━━━━━━━━━━━━━━╇━━━━━━━━━━━━━━━━━━━━━━━━╇━━━━━━━━━━━━━━━┩\n",
       "│ dense (<span style=\"color: #0087ff; text-decoration-color: #0087ff\">Dense</span>)                   │ (<span style=\"color: #00d7ff; text-decoration-color: #00d7ff\">None</span>, <span style=\"color: #00af00; text-decoration-color: #00af00\">512</span>)            │        <span style=\"color: #00af00; text-decoration-color: #00af00\">10,752</span> │\n",
       "├─────────────────────────────────┼────────────────────────┼───────────────┤\n",
       "│ dropout (<span style=\"color: #0087ff; text-decoration-color: #0087ff\">Dropout</span>)               │ (<span style=\"color: #00d7ff; text-decoration-color: #00d7ff\">None</span>, <span style=\"color: #00af00; text-decoration-color: #00af00\">512</span>)            │             <span style=\"color: #00af00; text-decoration-color: #00af00\">0</span> │\n",
       "├─────────────────────────────────┼────────────────────────┼───────────────┤\n",
       "│ dense_1 (<span style=\"color: #0087ff; text-decoration-color: #0087ff\">Dense</span>)                 │ (<span style=\"color: #00d7ff; text-decoration-color: #00d7ff\">None</span>, <span style=\"color: #00af00; text-decoration-color: #00af00\">256</span>)            │       <span style=\"color: #00af00; text-decoration-color: #00af00\">131,328</span> │\n",
       "├─────────────────────────────────┼────────────────────────┼───────────────┤\n",
       "│ dropout_1 (<span style=\"color: #0087ff; text-decoration-color: #0087ff\">Dropout</span>)             │ (<span style=\"color: #00d7ff; text-decoration-color: #00d7ff\">None</span>, <span style=\"color: #00af00; text-decoration-color: #00af00\">256</span>)            │             <span style=\"color: #00af00; text-decoration-color: #00af00\">0</span> │\n",
       "├─────────────────────────────────┼────────────────────────┼───────────────┤\n",
       "│ dense_2 (<span style=\"color: #0087ff; text-decoration-color: #0087ff\">Dense</span>)                 │ (<span style=\"color: #00d7ff; text-decoration-color: #00d7ff\">None</span>, <span style=\"color: #00af00; text-decoration-color: #00af00\">128</span>)            │        <span style=\"color: #00af00; text-decoration-color: #00af00\">32,896</span> │\n",
       "├─────────────────────────────────┼────────────────────────┼───────────────┤\n",
       "│ dropout_2 (<span style=\"color: #0087ff; text-decoration-color: #0087ff\">Dropout</span>)             │ (<span style=\"color: #00d7ff; text-decoration-color: #00d7ff\">None</span>, <span style=\"color: #00af00; text-decoration-color: #00af00\">128</span>)            │             <span style=\"color: #00af00; text-decoration-color: #00af00\">0</span> │\n",
       "├─────────────────────────────────┼────────────────────────┼───────────────┤\n",
       "│ dense_3 (<span style=\"color: #0087ff; text-decoration-color: #0087ff\">Dense</span>)                 │ (<span style=\"color: #00d7ff; text-decoration-color: #00d7ff\">None</span>, <span style=\"color: #00af00; text-decoration-color: #00af00\">64</span>)             │         <span style=\"color: #00af00; text-decoration-color: #00af00\">8,256</span> │\n",
       "├─────────────────────────────────┼────────────────────────┼───────────────┤\n",
       "│ dropout_3 (<span style=\"color: #0087ff; text-decoration-color: #0087ff\">Dropout</span>)             │ (<span style=\"color: #00d7ff; text-decoration-color: #00d7ff\">None</span>, <span style=\"color: #00af00; text-decoration-color: #00af00\">64</span>)             │             <span style=\"color: #00af00; text-decoration-color: #00af00\">0</span> │\n",
       "├─────────────────────────────────┼────────────────────────┼───────────────┤\n",
       "│ dense_4 (<span style=\"color: #0087ff; text-decoration-color: #0087ff\">Dense</span>)                 │ (<span style=\"color: #00d7ff; text-decoration-color: #00d7ff\">None</span>, <span style=\"color: #00af00; text-decoration-color: #00af00\">32</span>)             │         <span style=\"color: #00af00; text-decoration-color: #00af00\">2,080</span> │\n",
       "├─────────────────────────────────┼────────────────────────┼───────────────┤\n",
       "│ dense_5 (<span style=\"color: #0087ff; text-decoration-color: #0087ff\">Dense</span>)                 │ (<span style=\"color: #00d7ff; text-decoration-color: #00d7ff\">None</span>, <span style=\"color: #00af00; text-decoration-color: #00af00\">1</span>)              │            <span style=\"color: #00af00; text-decoration-color: #00af00\">33</span> │\n",
       "└─────────────────────────────────┴────────────────────────┴───────────────┘\n",
       "</pre>\n"
      ],
      "text/plain": [
       "┏━━━━━━━━━━━━━━━━━━━━━━━━━━━━━━━━━┳━━━━━━━━━━━━━━━━━━━━━━━━┳━━━━━━━━━━━━━━━┓\n",
       "┃\u001b[1m \u001b[0m\u001b[1mLayer (type)                   \u001b[0m\u001b[1m \u001b[0m┃\u001b[1m \u001b[0m\u001b[1mOutput Shape          \u001b[0m\u001b[1m \u001b[0m┃\u001b[1m \u001b[0m\u001b[1m      Param #\u001b[0m\u001b[1m \u001b[0m┃\n",
       "┡━━━━━━━━━━━━━━━━━━━━━━━━━━━━━━━━━╇━━━━━━━━━━━━━━━━━━━━━━━━╇━━━━━━━━━━━━━━━┩\n",
       "│ dense (\u001b[38;5;33mDense\u001b[0m)                   │ (\u001b[38;5;45mNone\u001b[0m, \u001b[38;5;34m512\u001b[0m)            │        \u001b[38;5;34m10,752\u001b[0m │\n",
       "├─────────────────────────────────┼────────────────────────┼───────────────┤\n",
       "│ dropout (\u001b[38;5;33mDropout\u001b[0m)               │ (\u001b[38;5;45mNone\u001b[0m, \u001b[38;5;34m512\u001b[0m)            │             \u001b[38;5;34m0\u001b[0m │\n",
       "├─────────────────────────────────┼────────────────────────┼───────────────┤\n",
       "│ dense_1 (\u001b[38;5;33mDense\u001b[0m)                 │ (\u001b[38;5;45mNone\u001b[0m, \u001b[38;5;34m256\u001b[0m)            │       \u001b[38;5;34m131,328\u001b[0m │\n",
       "├─────────────────────────────────┼────────────────────────┼───────────────┤\n",
       "│ dropout_1 (\u001b[38;5;33mDropout\u001b[0m)             │ (\u001b[38;5;45mNone\u001b[0m, \u001b[38;5;34m256\u001b[0m)            │             \u001b[38;5;34m0\u001b[0m │\n",
       "├─────────────────────────────────┼────────────────────────┼───────────────┤\n",
       "│ dense_2 (\u001b[38;5;33mDense\u001b[0m)                 │ (\u001b[38;5;45mNone\u001b[0m, \u001b[38;5;34m128\u001b[0m)            │        \u001b[38;5;34m32,896\u001b[0m │\n",
       "├─────────────────────────────────┼────────────────────────┼───────────────┤\n",
       "│ dropout_2 (\u001b[38;5;33mDropout\u001b[0m)             │ (\u001b[38;5;45mNone\u001b[0m, \u001b[38;5;34m128\u001b[0m)            │             \u001b[38;5;34m0\u001b[0m │\n",
       "├─────────────────────────────────┼────────────────────────┼───────────────┤\n",
       "│ dense_3 (\u001b[38;5;33mDense\u001b[0m)                 │ (\u001b[38;5;45mNone\u001b[0m, \u001b[38;5;34m64\u001b[0m)             │         \u001b[38;5;34m8,256\u001b[0m │\n",
       "├─────────────────────────────────┼────────────────────────┼───────────────┤\n",
       "│ dropout_3 (\u001b[38;5;33mDropout\u001b[0m)             │ (\u001b[38;5;45mNone\u001b[0m, \u001b[38;5;34m64\u001b[0m)             │             \u001b[38;5;34m0\u001b[0m │\n",
       "├─────────────────────────────────┼────────────────────────┼───────────────┤\n",
       "│ dense_4 (\u001b[38;5;33mDense\u001b[0m)                 │ (\u001b[38;5;45mNone\u001b[0m, \u001b[38;5;34m32\u001b[0m)             │         \u001b[38;5;34m2,080\u001b[0m │\n",
       "├─────────────────────────────────┼────────────────────────┼───────────────┤\n",
       "│ dense_5 (\u001b[38;5;33mDense\u001b[0m)                 │ (\u001b[38;5;45mNone\u001b[0m, \u001b[38;5;34m1\u001b[0m)              │            \u001b[38;5;34m33\u001b[0m │\n",
       "└─────────────────────────────────┴────────────────────────┴───────────────┘\n"
      ]
     },
     "metadata": {},
     "output_type": "display_data"
    },
    {
     "data": {
      "text/html": [
       "<pre style=\"white-space:pre;overflow-x:auto;line-height:normal;font-family:Menlo,'DejaVu Sans Mono',consolas,'Courier New',monospace\"><span style=\"font-weight: bold\"> Total params: </span><span style=\"color: #00af00; text-decoration-color: #00af00\">556,037</span> (2.12 MB)\n",
       "</pre>\n"
      ],
      "text/plain": [
       "\u001b[1m Total params: \u001b[0m\u001b[38;5;34m556,037\u001b[0m (2.12 MB)\n"
      ]
     },
     "metadata": {},
     "output_type": "display_data"
    },
    {
     "data": {
      "text/html": [
       "<pre style=\"white-space:pre;overflow-x:auto;line-height:normal;font-family:Menlo,'DejaVu Sans Mono',consolas,'Courier New',monospace\"><span style=\"font-weight: bold\"> Trainable params: </span><span style=\"color: #00af00; text-decoration-color: #00af00\">185,345</span> (724.00 KB)\n",
       "</pre>\n"
      ],
      "text/plain": [
       "\u001b[1m Trainable params: \u001b[0m\u001b[38;5;34m185,345\u001b[0m (724.00 KB)\n"
      ]
     },
     "metadata": {},
     "output_type": "display_data"
    },
    {
     "data": {
      "text/html": [
       "<pre style=\"white-space:pre;overflow-x:auto;line-height:normal;font-family:Menlo,'DejaVu Sans Mono',consolas,'Courier New',monospace\"><span style=\"font-weight: bold\"> Non-trainable params: </span><span style=\"color: #00af00; text-decoration-color: #00af00\">0</span> (0.00 B)\n",
       "</pre>\n"
      ],
      "text/plain": [
       "\u001b[1m Non-trainable params: \u001b[0m\u001b[38;5;34m0\u001b[0m (0.00 B)\n"
      ]
     },
     "metadata": {},
     "output_type": "display_data"
    },
    {
     "data": {
      "text/html": [
       "<pre style=\"white-space:pre;overflow-x:auto;line-height:normal;font-family:Menlo,'DejaVu Sans Mono',consolas,'Courier New',monospace\"><span style=\"font-weight: bold\"> Optimizer params: </span><span style=\"color: #00af00; text-decoration-color: #00af00\">370,692</span> (1.41 MB)\n",
       "</pre>\n"
      ],
      "text/plain": [
       "\u001b[1m Optimizer params: \u001b[0m\u001b[38;5;34m370,692\u001b[0m (1.41 MB)\n"
      ]
     },
     "metadata": {},
     "output_type": "display_data"
    }
   ],
   "source": [
    "model.summary()"
   ]
  },
  {
   "cell_type": "code",
   "execution_count": 25,
   "id": "ca0a9c0d",
   "metadata": {
    "execution": {
     "iopub.execute_input": "2025-03-24T22:21:44.366689Z",
     "iopub.status.busy": "2025-03-24T22:21:44.366154Z",
     "iopub.status.idle": "2025-03-24T22:21:44.683884Z",
     "shell.execute_reply": "2025-03-24T22:21:44.682693Z"
    },
    "papermill": {
     "duration": 0.444896,
     "end_time": "2025-03-24T22:21:44.685698",
     "exception": false,
     "start_time": "2025-03-24T22:21:44.240802",
     "status": "completed"
    },
    "tags": []
   },
   "outputs": [
    {
     "data": {
      "image/png": "[encoded data removed]",
      "text/plain": [
       "<Figure size 1000x600 with 1 Axes>"
      ]
     },
     "metadata": {},
     "output_type": "display_data"
    }
   ],
   "source": [
    "#RMSE over epochs\n",
    "rmse_per_epoch = [val_loss ** 0.5 for val_loss in history.history['val_loss']]\n",
    "plt.figure(figsize=(10, 6))\n",
    "plt.plot(rmse_per_epoch, label='Validation RMSE', color='blue', lw=2)\n",
    "plt.title(\"RMSE Over Epochs\", fontsize=16, fontweight='bold')\n",
    "plt.xlabel(\"Epoch\", fontsize=12)\n",
    "plt.ylabel(\"RMSE\", fontsize=12)\n",
    "plt.grid(alpha=0.3)\n",
    "plt.legend(fontsize=10, shadow=True)\n",
    "plt.tight_layout()\n",
    "plt.show()"
   ]
  },
  {
   "cell_type": "code",
   "execution_count": 26,
   "id": "85a8a5ff",
   "metadata": {
    "execution": {
     "iopub.execute_input": "2025-03-24T22:21:44.790903Z",
     "iopub.status.busy": "2025-03-24T22:21:44.790516Z",
     "iopub.status.idle": "2025-03-24T22:21:48.418789Z",
     "shell.execute_reply": "2025-03-24T22:21:48.417645Z"
    },
    "papermill": {
     "duration": 3.683512,
     "end_time": "2025-03-24T22:21:48.420856",
     "exception": false,
     "start_time": "2025-03-24T22:21:44.737344",
     "status": "completed"
    },
    "tags": []
   },
   "outputs": [
    {
     "data": {
      "image/png": "[encoded data removed]",
      "text/plain": [
       "<Figure size 1000x600 with 1 Axes>"
      ]
     },
     "metadata": {},
     "output_type": "display_data"
    }
   ],
   "source": [
    "#RMSE distribution of predictions\n",
    "plt.figure(figsize=(10, 6))\n",
    "errors = np.sqrt((y_test - predictions.flatten())**2)\n",
    "sns.histplot(errors, kde=True, color=\"teal\", bins=30)\n",
    "plt.title(\"RMSE Distribution of Predictions\", fontsize=16)\n",
    "plt.xlabel(\"RMSE\", fontsize=12)\n",
    "plt.ylabel(\"Frequency\", fontsize=12)\n",
    "plt.grid(True, linestyle=\"--\", alpha=0.7)\n",
    "plt.tight_layout()\n",
    "plt.show()"
   ]
  },
  {
   "cell_type": "code",
   "execution_count": null,
   "id": "2e252007",
   "metadata": {
    "execution": {
     "iopub.execute_input": "2025-03-24T22:21:48.528576Z",
     "iopub.status.busy": "2025-03-24T22:21:48.528236Z",
     "iopub.status.idle": "2025-03-24T22:36:16.221635Z",
     "shell.execute_reply": "2025-03-24T22:36:16.220549Z"
    },
    "papermill": {
     "duration": 867.805803,
     "end_time": "2025-03-24T22:36:16.279933",
     "exception": false,
     "start_time": "2025-03-24T22:21:48.474130",
     "status": "completed"
    },
    "tags": []
   },
   "outputs": [],
   "source": []
  },
  {
   "cell_type": "markdown",
   "id": "56745448",
   "metadata": {
    "papermill": {
     "duration": 0.054864,
     "end_time": "2025-03-24T22:36:16.389864",
     "exception": false,
     "start_time": "2025-03-24T22:36:16.335000",
     "status": "completed"
    },
    "tags": []
   },
   "source": [
    "# Testing and preparing submission file"
   ]
  },
  {
   "cell_type": "code",
   "execution_count": null,
   "id": "581443a4",
   "metadata": {
    "execution": {
     "iopub.execute_input": "2025-03-24T22:36:16.501851Z",
     "iopub.status.busy": "2025-03-24T22:36:16.501486Z",
     "iopub.status.idle": "2025-03-24T22:36:17.152785Z",
     "shell.execute_reply": "2025-03-24T22:36:17.151350Z"
    },
    "papermill": {
     "duration": 0.709047,
     "end_time": "2025-03-24T22:36:17.154714",
     "exception": false,
     "start_time": "2025-03-24T22:36:16.445667",
     "status": "completed"
    },
    "tags": []
   },
   "outputs": [],
   "source": [
    "test=pd.read_csv(r'test.csv')\n",
    "\n",
    "#preprocessing test data\n",
    "submission = pd.DataFrame({'id': test['id']})\n",
    "test = test.drop(columns=['id'])\n",
    "\n",
    "#one-hot encoding the test data and align columns\n",
    "test = pd.get_dummies(test, drop_first=True)\n",
    "test = test.reindex(columns=x.columns, fill_value=0)\n",
    "\n",
    "#scaling\n",
    "test_scaled = scaler.transform(test)"
   ]
  },
  {
   "cell_type": "code",
   "execution_count": 29,
   "id": "43780c3b",
   "metadata": {
    "execution": {
     "iopub.execute_input": "2025-03-24T22:36:17.266818Z",
     "iopub.status.busy": "2025-03-24T22:36:17.266370Z",
     "iopub.status.idle": "2025-03-24T22:36:29.644208Z",
     "shell.execute_reply": "2025-03-24T22:36:29.643188Z"
    },
    "papermill": {
     "duration": 12.435598,
     "end_time": "2025-03-24T22:36:29.645974",
     "exception": false,
     "start_time": "2025-03-24T22:36:17.210376",
     "status": "completed"
    },
    "tags": []
   },
   "outputs": [
    {
     "name": "stdout",
     "output_type": "stream",
     "text": [
      "\u001b[1m6250/6250\u001b[0m \u001b[32m━━━━━━━━━━━━━━━━━━━━\u001b[0m\u001b[37m\u001b[0m \u001b[1m28s\u001b[0m 5ms/step\n"
     ]
    }
   ],
   "source": [
    "#making predictions on test data\n",
    "predictions = model.predict(test_scaled)\n",
    "\n",
    "#adding predicted values to df and create submission file\n",
    "submission['Price'] = predictions.flatten()\n",
    "#submission.to_csv('submission.csv', index=False)"
   ]
  },
  {
   "cell_type": "markdown",
   "id": "a5c49e7e",
   "metadata": {
    "papermill": {
     "duration": 0.063765,
     "end_time": "2025-03-24T22:36:29.774849",
     "exception": false,
     "start_time": "2025-03-24T22:36:29.711084",
     "status": "completed"
    },
    "tags": []
   },
   "source": [
    "# **Conclusion**\n",
    "\n",
    "- In this project, we developed a deep learning regression model for predicting backpack prices, achieving an RMSE of 38. While this indicates a reasonable performance, the dataset presented unique challenges.\n",
    "\n",
    "- As observed from the analysis and visualizations, the features lacked significant variability to distinguish price patterns effectively. Attributes like size, material, and brand showed minimal influence on price, making it difficult to capture meaningful relationships in the data.\n",
    "\n",
    "- Despite these limitations, the model's performance highlights its ability to generalize under constrained conditions. Future improvements could involve enriching the dataset with additional, more distinct features or integrating external data sources for better feature engineering."
   ]
  }
 ],
 "metadata": {
  "kaggle": {
   "accelerator": "none",
   "dataSources": [
    {
     "databundleVersionId": 10995111,
     "sourceId": 90274,
     "sourceType": "competition"
    }
   ],
   "dockerImageVersionId": 30918,
   "isGpuEnabled": false,
   "isInternetEnabled": true,
   "language": "python",
   "sourceType": "notebook"
  },
  "kernelspec": {
   "display_name": "Python 3",
   "language": "python",
   "name": "python3"
  },
  "language_info": {
   "codemirror_mode": {
    "name": "ipython",
    "version": 3
   },
   "file_extension": ".py",
   "mimetype": "text/x-python",
   "name": "python",
   "nbconvert_exporter": "python",
   "pygments_lexer": "ipython3",
   "version": "3.12.4"
  },
  "papermill": {
   "default_parameters": {},
   "duration": 3226.27407,
   "end_time": "2025-03-24T22:36:32.171302",
   "environment_variables": {},
   "exception": null,
   "input_path": "__notebook__.ipynb",
   "output_path": "__notebook__.ipynb",
   "parameters": {},
   "start_time": "2025-03-24T21:42:45.897232",
   "version": "2.6.0"
  }
 },
 "nbformat": 4,
 "nbformat_minor": 5
}
